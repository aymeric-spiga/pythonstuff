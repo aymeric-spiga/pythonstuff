{
 "metadata": {
  "name": "",
  "signature": "sha256:ac784ba8cf46c6555eaf9f9773c1991d3d9f54ab9776cc6d5320f94dd78cc99e"
 },
 "nbformat": 3,
 "nbformat_minor": 0,
 "worksheets": [
  {
   "cells": [
    {
     "cell_type": "markdown",
     "metadata": {},
     "source": [
      "### Lomb-Scargle\n",
      "\n",
      "*Author: [Aymeric SPIGA](http://www.lmd.jussieu.fr/~aslmd)*\n",
      "\n",
      "We perform a Lomb-Scargle periodogram on the TEXES measurements. We use the Lomb-Scargle algorithm [included in the `scipy.signal` library](http://docs.scipy.org/doc/scipy-0.16.0/reference/generated/scipy.signal.lombscargle.html). It has [known limitations](https://jakevdp.github.io/blog/2015/06/13/lomb-scargle-in-python/) but should [perform well](http://joseph-long.com/writing/recovering-signals-from-unevenly-sampled-data/) in the simple case we consider here. What follows has been tested on a simple combination of two cosines of distinct frequencies, before it was applied to the actual observed signal."
     ]
    },
    {
     "cell_type": "markdown",
     "metadata": {},
     "source": [
      "Import scientific + plotting librairies"
     ]
    },
    {
     "cell_type": "code",
     "collapsed": false,
     "input": [
      "import numpy as np\n",
      "import scipy.signal as scisig\n",
      "import matplotlib.pyplot as mpl\n",
      "%matplotlib inline "
     ],
     "language": "python",
     "metadata": {},
     "outputs": [],
     "prompt_number": 1
    },
    {
     "cell_type": "markdown",
     "metadata": {},
     "source": [
      "Load measurements (ASCII file)"
     ]
    },
    {
     "cell_type": "code",
     "collapsed": false,
     "input": [
      "level = \"2Pa\"\n",
      "longi,temp = np.loadtxt(\"Temperature_\"+level+\".txt\",unpack=True)"
     ],
     "language": "python",
     "metadata": {},
     "outputs": [],
     "prompt_number": 2
    },
    {
     "cell_type": "markdown",
     "metadata": {},
     "source": [
      "<small>Sensitivity test: try will less points</small>"
     ]
    },
    {
     "cell_type": "code",
     "collapsed": false,
     "input": [
      "#temp=temp[::2]\n",
      "#longi=longi[::2]"
     ],
     "language": "python",
     "metadata": {},
     "outputs": [],
     "prompt_number": 3
    },
    {
     "cell_type": "markdown",
     "metadata": {},
     "source": [
      "<small>Sensitivity test: try with periodically copy-pasting signal</small>"
     ]
    },
    {
     "cell_type": "code",
     "collapsed": false,
     "input": [
      "#nt = temp.size\n",
      "#temp2 = np.zeros(4*nt)\n",
      "#temp2[0:nt] = temp[0:nt]\n",
      "#temp2[nt:2*nt] = temp[0:nt]\n",
      "#temp2[2*nt:3*nt] = temp[0:nt]\n",
      "#temp2[3*nt:4*nt] = temp[0:nt]\n",
      "#longi2 = np.zeros(4*nt)\n",
      "#longi2[0:nt] = longi[0:nt]\n",
      "#longi2[nt:2*nt] = longi[0:nt] + 360.\n",
      "#longi2[2*nt:3*nt] = longi[0:nt] + 720.\n",
      "#longi2[3*nt:4*nt] = longi[0:nt] + 1080.\n",
      "#temp = temp2\n",
      "#longi = longi2"
     ],
     "language": "python",
     "metadata": {},
     "outputs": [],
     "prompt_number": 4
    },
    {
     "cell_type": "markdown",
     "metadata": {},
     "source": [
      "Remove zeros for missing values"
     ]
    },
    {
     "cell_type": "code",
     "collapsed": false,
     "input": [
      "w = np.where(temp > 0)\n",
      "longi = longi[w]\n",
      "temp = temp[w]"
     ],
     "language": "python",
     "metadata": {},
     "outputs": [],
     "prompt_number": 5
    },
    {
     "cell_type": "markdown",
     "metadata": {},
     "source": [
      "Make a plot to check what the signal looks like"
     ]
    },
    {
     "cell_type": "code",
     "collapsed": false,
     "input": [
      "mpl.plot(longi,temp,'r.')\n",
      "mpl.xlabel(u'longitude')\n",
      "mpl.ylabel(u'temperature')"
     ],
     "language": "python",
     "metadata": {},
     "outputs": [
      {
       "metadata": {},
       "output_type": "pyout",
       "prompt_number": 6,
       "text": [
        "<matplotlib.text.Text at 0xb4d7d46c>"
       ]
      },
      {
       "metadata": {},
       "output_type": "display_data",
       "png": "[encoded data removed]",
       "text": [
        "<matplotlib.figure.Figure at 0xb4dc7f2c>"
       ]
      }
     ],
     "prompt_number": 6
    },
    {
     "cell_type": "markdown",
     "metadata": {},
     "source": [
      "Convert longitudes in radians"
     ]
    },
    {
     "cell_type": "code",
     "collapsed": false,
     "input": [
      "longi = longi * np.pi/180."
     ],
     "language": "python",
     "metadata": {},
     "outputs": [],
     "prompt_number": 7
    },
    {
     "cell_type": "markdown",
     "metadata": {},
     "source": [
      "<small>Uncomment what follows to perform a simple test of the Lomb-Scargle procedure</small>"
     ]
    },
    {
     "cell_type": "code",
     "collapsed": false,
     "input": [
      "#temp = np.cos(3.*longi) + np.cos(5.*longi)\n",
      "#mpl.plot(longi,temp,'r.')"
     ],
     "language": "python",
     "metadata": {},
     "outputs": [],
     "prompt_number": 8
    },
    {
     "cell_type": "markdown",
     "metadata": {},
     "source": [
      "Prepare the grid for angular frequencies (starting from wavenumbers)"
     ]
    },
    {
     "cell_type": "code",
     "collapsed": false,
     "input": [
      "wn_min, wn_max, npoints = 0.75,15,2000\n",
      "periods = np.linspace(wn_min, wn_max, npoints)\n",
      "ang_freqs = 2 * np.pi / periods"
     ],
     "language": "python",
     "metadata": {},
     "outputs": [],
     "prompt_number": 9
    },
    {
     "cell_type": "markdown",
     "metadata": {},
     "source": [
      "Compute the unnormalized Lomb-Scargle periodogram on the centered values"
     ]
    },
    {
     "cell_type": "code",
     "collapsed": false,
     "input": [
      "power = scisig.lombscargle(longi, temp - temp.mean(), ang_freqs)"
     ],
     "language": "python",
     "metadata": {},
     "outputs": [],
     "prompt_number": 10
    },
    {
     "cell_type": "markdown",
     "metadata": {},
     "source": [
      "Normalize the power"
     ]
    },
    {
     "cell_type": "code",
     "collapsed": false,
     "input": [
      "N = len(longi)\n",
      "power *= 2 / (N * temp.std() ** 2)"
     ],
     "language": "python",
     "metadata": {},
     "outputs": [],
     "prompt_number": 11
    },
    {
     "cell_type": "markdown",
     "metadata": {},
     "source": [
      "Convert back periods $[2\\pi,\\pi,2\\pi/3,\\ldots]$ to wavenumbers $[1,2,3,\\ldots]$"
     ]
    },
    {
     "cell_type": "code",
     "collapsed": false,
     "input": [
      "wavenumber = 2.*np.pi / periods"
     ],
     "language": "python",
     "metadata": {},
     "outputs": [],
     "prompt_number": 12
    },
    {
     "cell_type": "markdown",
     "metadata": {},
     "source": [
      "Check the dominant modes"
     ]
    },
    {
     "cell_type": "code",
     "collapsed": false,
     "input": [
      "from scipy.ndimage.measurements import maximum_position\n",
      "nmodes = 5\n",
      "dominant_wn = np.zeros(nmodes)\n",
      "search = power\n",
      "zelab = search > 0 # (all elements)\n",
      "itit = 1\n",
      "# -- while loop\n",
      "while itit <= nmodes:\n",
      "  # -- find dominant mode\n",
      "  ij = maximum_position(search,labels=zelab)\n",
      "  dominant_wn[itit-1] = 2.*np.pi / periods[ij[0]]\n",
      "  spower = search[ij]\n",
      "  # -- print result\n",
      "  print(\"%2i %8.2f %8.2f\" % (itit,dominant_wn[itit-1],spower))\n",
      "  # -- iterate\n",
      "  zelab = search < spower # remove maximum found\n",
      "  itit += 1"
     ],
     "language": "python",
     "metadata": {},
     "outputs": [
      {
       "output_type": "stream",
       "stream": "stdout",
       "text": [
        " 1     2.03     0.49\n",
        " 2     2.03     0.49\n",
        " 3     2.02     0.49\n",
        " 4     2.03     0.49\n",
        " 5     2.02     0.49\n"
       ]
      }
     ],
     "prompt_number": 13
    },
    {
     "cell_type": "markdown",
     "metadata": {},
     "source": [
      "Display Lomb-Scargle periodogram with a vertical line for the dominant mode. Save figure."
     ]
    },
    {
     "cell_type": "code",
     "collapsed": false,
     "input": [
      "mpl.plot(wavenumber, power)\n",
      "mpl.xlabel(\"Zonal wavenumber\")\n",
      "mpl.ylabel(\"Normalized spectral power\")\n",
      "mpl.title(\"Lomb-Scargle periodogram for temperature at \"+level)\n",
      "mpl.axvline(dominant_wn[0], lw=2, color='red', alpha=0.4, label=\"dominant WN = %4.1f\" % (dominant_wn[0]))\n",
      "mpl.legend()\n",
      "mpl.savefig(\"periodogram.pdf\", bbox_inches='tight')"
     ],
     "language": "python",
     "metadata": {},
     "outputs": [
      {
       "metadata": {},
       "output_type": "display_data",
       "png": "[encoded data removed]",
       "text": [
        "<matplotlib.figure.Figure at 0xb4a7b66c>"
       ]
      }
     ],
     "prompt_number": 17
    }
   ],
   "metadata": {}
  }
 ]
}